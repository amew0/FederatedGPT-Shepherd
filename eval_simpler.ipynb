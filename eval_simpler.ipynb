{
 "cells": [
  {
   "cell_type": "code",
   "execution_count": 1,
   "metadata": {},
   "outputs": [
    {
     "name": "stdout",
     "output_type": "stream",
     "text": [
      "True\n"
     ]
    }
   ],
   "source": [
    "import torch\n",
    "from datasets import load_dataset\n",
    "from transformers import AutoTokenizer, AutoModelForSeq2SeqLM, AutoModelForCausalLM, BitsAndBytesConfig\n",
    "logg = lambda x: print(f\"------------------------ {x} ---------------------------\")\n",
    "from datetime import datetime\n",
    "print(torch.cuda.is_available())"
   ]
  },
  {
   "cell_type": "code",
   "execution_count": 2,
   "metadata": {},
   "outputs": [
    {
     "name": "stdout",
     "output_type": "stream",
     "text": [
      "------------------------ 240627150602 ---------------------------\n",
      "------------------------ eval_simpler.py ---------------------------\n"
     ]
    }
   ],
   "source": [
    "ME = \"/dpc/kunf0097/l3-8b\"\n",
    "RUN_ID = datetime.now().strftime(\"%y%m%d%H%M%S\")\n",
    "logg(RUN_ID)\n",
    "logg('eval_simpler.py')"
   ]
  },
  {
   "cell_type": "code",
   "execution_count": 3,
   "metadata": {},
   "outputs": [
    {
     "name": "stderr",
     "output_type": "stream",
     "text": [
      "Special tokens have been added in the vocabulary, make sure the associated word embeddings are fine-tuned or trained.\n"
     ]
    }
   ],
   "source": [
    "name = \"amew0/l3-8b-medical-v240622193618\"\n",
    "tokenizer = AutoTokenizer.from_pretrained(\n",
    "    name, \n",
    "    cache_dir=f\"{ME}/tokenizer\", \n",
    "    padding_side=\"right\", \n",
    "    pad_token_id=0,\n",
    "    legacy=False\n",
    ")\n",
    "tokenizer.pad_token = tokenizer.eos_token"
   ]
  },
  {
   "cell_type": "code",
   "execution_count": 4,
   "metadata": {},
   "outputs": [
    {
     "data": {
      "application/vnd.jupyter.widget-view+json": {
       "model_id": "01b64401f3bf4e4a98a18d96f1541995",
       "version_major": 2,
       "version_minor": 0
      },
      "text/plain": [
       "Loading checkpoint shards:   0%|          | 0/4 [00:00<?, ?it/s]"
      ]
     },
     "metadata": {},
     "output_type": "display_data"
    }
   ],
   "source": [
    "# Initialize model\n",
    "bnb_config = BitsAndBytesConfig(\n",
    "    load_in_4bit=True,\n",
    "    bnb_4bit_quant_type=\"nf4\",\n",
    "    bnb_4bit_compute_dtype=torch.float16,\n",
    "    bnb_4bit_use_double_quant=True\n",
    ")\n",
    "# Initialize model\n",
    "model = AutoModelForCausalLM.from_pretrained(\n",
    "    name, \n",
    "    cache_dir=f\"{ME}/model\",\n",
    "    quantization_config=bnb_config,\n",
    "    torch_dtype=torch.float16,\n",
    "    device_map={\"\": 0},\n",
    "    low_cpu_mem_usage=True,\n",
    "    return_dict=True\n",
    ")"
   ]
  },
  {
   "cell_type": "code",
   "execution_count": 5,
   "metadata": {},
   "outputs": [],
   "source": [
    "# Tokenize prompt function\n",
    "cutoff_len = 128  # Maximum length to control CUDA OOM\n",
    "\n",
    "def tokenize(prompt, tokenizer, add_eos_token=True):\n",
    "    result = tokenizer(\n",
    "        prompt,\n",
    "        truncation=True,\n",
    "        max_length=cutoff_len,\n",
    "        padding=\"max_length\",\n",
    "        return_tensors=\"pt\",\n",
    "    )\n",
    "    result[\"input_ids\"] = result[\"input_ids\"].flatten()\n",
    "    result[\"attention_mask\"] = result[\"attention_mask\"].flatten()\n",
    "\n",
    "    if add_eos_token and result[\"input_ids\"].shape[0] < cutoff_len:\n",
    "        result[\"input_ids\"][-1] = tokenizer.eos_token_id\n",
    "        result[\"attention_mask\"][-1] = 1\n",
    "\n",
    "    result[\"labels\"] = result[\"input_ids\"].clone()\n",
    "    return result\n",
    "\n",
    "def generate_and_tokenize_prompt(data_point):\n",
    "    tokenized_full_prompt = tokenize(data_point[\"prompt\"], tokenizer=tokenizer).to('cpu')\n",
    "    return tokenized_full_prompt\n"
   ]
  },
  {
   "cell_type": "code",
   "execution_count": 6,
   "metadata": {},
   "outputs": [
    {
     "data": {
      "application/vnd.jupyter.widget-view+json": {
       "model_id": "09d1cccc35ce41a285baf0124d73e432",
       "version_major": 2,
       "version_minor": 0
      },
      "text/plain": [
       "Map:   0%|          | 0/2000 [00:00<?, ? examples/s]"
      ]
     },
     "metadata": {},
     "output_type": "display_data"
    }
   ],
   "source": [
    "data_path = './data/1/medical.json'\n",
    "data = load_dataset(\"json\", data_files=data_path)\n",
    "eval_dataset = data[\"train\"].shuffle().map(generate_and_tokenize_prompt)"
   ]
  },
  {
   "cell_type": "code",
   "execution_count": 20,
   "metadata": {},
   "outputs": [],
   "source": [
    "from sklearn.metrics import f1_score\n",
    "\n",
    "# Evaluation function\n",
    "def evaluate_squad_predictions(pred):\n",
    "    labels = pred[\"labels\"].flatten()\n",
    "    logits = pred[\"logits\"].argmax(-1).flatten()\n",
    "\n",
    "    decoded_labels = tokenizer.decode(labels)\n",
    "    decoded_logits = tokenizer.decode(logits)\n",
    "    print(decoded_labels)\n",
    "    print(decoded_logits)\n",
    "\n",
    "    em = sum([1 if p == l else 0 for p, l in zip(labels, logits)]) / len(labels)\n",
    "    f1 = f1_score(labels, logits, average='macro')\n",
    "\n",
    "    return {'exact_match': em, 'f1': f1}"
   ]
  },
  {
   "cell_type": "code",
   "execution_count": 23,
   "metadata": {},
   "outputs": [
    {
     "name": "stderr",
     "output_type": "stream",
     "text": [
      "1it [00:00,  3.35it/s]"
     ]
    },
    {
     "name": "stdout",
     "output_type": "stream",
     "text": [
      "<|begin_of_text|><|start_header_id|>system<|end_header_id|> If you are a doctor, please answer the medical questions based on the patient's description.<|eot_id|><|start_header_id|>user<|end_header_id|> This is the question: Hello doctor..My name kamal I m 21 years / male.......l sufrred from a depression I m afraid when I m go to bed and couldn t sleep then everyday I thinking how I can sleep today then this illness is effect on my education then my health then cause no thing make me happy still nw I forget this feeling. When I have any work nextday I couldn t sleep and I m thinking what happen nextday then if I couldn t sleep How I\n",
      "галіsystem글상위 If you are a doctor, please answer the medical questions based on the patient's description.글상위글상위user� This is the question: I,, I wife islesh k am 26 years old ..IIatelyfering from a severe and m taking of I m alone out sleep I I t sleep for I I m about to m sleep and and I is is very my my study and I marks and my of confidence to me happy and now I m how illness and I I m a problem I day I can t do then thinking m thinking how I today I I I m t sleep I I can\n"
     ]
    },
    {
     "name": "stderr",
     "output_type": "stream",
     "text": [
      "2it [00:00,  3.16it/s]"
     ]
    },
    {
     "name": "stdout",
     "output_type": "stream",
     "text": [
      "<|begin_of_text|><|start_header_id|>system<|end_header_id|> If you are a doctor, please answer the medical questions based on the patient's description.<|eot_id|><|start_header_id|>user<|end_header_id|> This is the question: I woke up last night with my heart racing. I was breathing slowly to calm my heart, but it kepts pumping extremely quickly. My depth perception is off and earlier my vision was blurry. I was shaking through all of this. Dad says its an anxiety attack.<|eot_id|><|start_header_id|>assistant<|end_header_id|> Hello, This can be anxiety attack but will not wake you up from the sleep, I am keeping it lower down. This can be arrhythmia like PSV or atrial fibrillation,\n",
      "галіsystem글상위 If you are a doctor, please answer the medical questions based on the patient's description.글상위글상위user� This is the question: I have up this night with a heart racing and I was sweating fast and try myself heart down but it was racing racing. fast. I heart of was off, I today eyes was blurry. I have also and out of this. I said I anxiety anxiety attack, I글상위assistant� Hi, I is be due attack or it need be you up in sleep sleep. and think not this as in in I can be duehythmia, atrVT or atrial fibrillation. which\n"
     ]
    },
    {
     "name": "stderr",
     "output_type": "stream",
     "text": [
      "3it [00:01,  2.74it/s]"
     ]
    },
    {
     "name": "stdout",
     "output_type": "stream",
     "text": [
      "<|begin_of_text|><|start_header_id|>system<|end_header_id|> If you are a doctor, please answer the medical questions based on the patient's description.<|eot_id|><|start_header_id|>user<|end_header_id|> This is the question: I had gall bladder surgery two weeks ago. I was fine for five days and then I had an attach like I was having a heart attach, went to the hospital and given nitro and it put my heart rate over 140 and my blood pressure went high. They gave me a bunch of drugs to get rid of the symptoms, but the next morning I felt like my nerves where jumping out of my body. I have not been able to stop shaking since. I shake really bad\n",
      "галіsystem글상위 If you are a doctor, please answer the medical questions based on the patient's description.글상위글상위user� This is the question: I have abl surgery  weeks ago. I have told for about days and then I started a episode. a was having a heart attack. I to the ER and they morphro and sent went me heart rate down 200. I blood pressure was to. I gave me a shot of meds and bring it of the pain and but I next day I was like I heart were on. of my skin. I have been been able to sleep shaking. then I have so bad when\n"
     ]
    },
    {
     "name": "stderr",
     "output_type": "stream",
     "text": [
      "4it [00:01,  2.65it/s]"
     ]
    },
    {
     "name": "stdout",
     "output_type": "stream",
     "text": [
      "<|begin_of_text|><|start_header_id|>system<|end_header_id|> If you are a doctor, please answer the medical questions based on the patient's description.<|eot_id|><|start_header_id|>user<|end_header_id|> This is the question: I had surgery to fuse L4,L5 and S1 9 moths ago and I am experiencing pain in my lower back right side radiating around and into my groin. I had 3 steroid injections in my hip because a recent mri showed a tear in my hip socket. My orthopedist said it was nothing more than burcitis and that the pain I was having was to do with my back. My neuro surgeon say the fusion is fine and healing well.\n",
      "галіsystem글상위 If you are a doctor, please answer the medical questions based on the patient's description.글상위글상위user� This is the question: I have a on remove my4-L5 and S1.2 months ago ago. have have still pain in my left back and side.ating down to down my butto. I have a2 epid injections in my back and of MRI MRIri showed a tear in my right lab. I hipopedic said that was not to than aitisitis. gave I steroid was was experiencing in from do with my back surgery I backsur said it pain is fine and that well. I\n"
     ]
    },
    {
     "name": "stderr",
     "output_type": "stream",
     "text": [
      "4it [00:01,  2.19it/s]"
     ]
    },
    {
     "name": "stdout",
     "output_type": "stream",
     "text": [
      "<|begin_of_text|><|start_header_id|>system<|end_header_id|> If you are a doctor, please answer the medical questions based on the patient's description.<|eot_id|><|start_header_id|>user<|end_header_id|> This is the question: I fell down three stairs on my buttocks, when I got up I almost passed out I ran to my bed and waited till I felt better. I have been feeling nauseated since then and cant stand for a long period of time without feeling like im going to be sick. It is also painful to sit. Im on blood thinners what should I do?<|eot_id|><|start_header_id|>assistant<|end_header_id|> Dear France pain is from muscular strain due to injury. You can take analgesic like ibupro\n",
      "галіsystem글상위 If you are a doctor, please answer the medical questions based on the patient's description.글상위글상위user� This is the question: I have on the steps and my leftcks and and I got up I could passed out. was to the bathroom and laid for I could better. I have a in betterated and then and I eat up very long time of time. feeling dizzy Im going to pass sick. I has now hard to sit for I not my thinners and could I do? I글상위assistant� Hi patient, in due muscle strain. to fall.  should take paingesic like dicuprofen\n"
     ]
    },
    {
     "name": "stderr",
     "output_type": "stream",
     "text": [
      "\n"
     ]
    }
   ],
   "source": [
    "results = []\n",
    "from tqdm import tqdm\n",
    "for i, example in tqdm(enumerate(eval_dataset)):\n",
    "    with torch.no_grad():\n",
    "        example[\"input_ids\"] = torch.LongTensor(example[\"input_ids\"]).unsqueeze(0)\n",
    "        example[\"attention_mask\"] = torch.LongTensor(example[\"attention_mask\"]).unsqueeze(0)\n",
    "\n",
    "        outputs = model(input_ids=example[\"input_ids\"], \n",
    "                        attention_mask=example[\"attention_mask\"])\n",
    "    pred = {\n",
    "        \"labels\": example[\"input_ids\"],\n",
    "        \"logits\": outputs[\"logits\"],\n",
    "    }\n",
    "    \n",
    "    # Evaluate predictions\n",
    "    eval_results = evaluate_squad_predictions(pred)\n",
    "    results.append(eval_results)\n",
    "    if i == 4: break\n"
   ]
  },
  {
   "cell_type": "code",
   "execution_count": 9,
   "metadata": {},
   "outputs": [
    {
     "name": "stdout",
     "output_type": "stream",
     "text": [
      "Aggregate EM: 0.0001796875, Aggregate F1: 4.9104171061135095e-05\n"
     ]
    }
   ],
   "source": [
    "# Aggregate metrics\n",
    "em_total = sum(result['exact_match'] for result in results) / len(results)\n",
    "f1_total = sum(result['f1'] for result in results) / len(results)\n",
    "\n",
    "print(f\"Aggregate EM: {em_total}, Aggregate F1: {f1_total}\")"
   ]
  },
  {
   "cell_type": "code",
   "execution_count": 16,
   "metadata": {},
   "outputs": [],
   "source": [
    "with open(f'eval-{name[-12:]}.txt', 'w') as file:\n",
    "    for result in results:\n",
    "        file.write(f\"{result}\\n\")\n",
    "    file.write(f\"{{'exact_match': {em_total}, 'f1': {f1_total}}}\")"
   ]
  },
  {
   "cell_type": "code",
   "execution_count": 15,
   "metadata": {},
   "outputs": [
    {
     "data": {
      "text/plain": [
       "\"{'exact_match': 0.0001796875, 'f1': 4.9104171061135095e-05}\""
      ]
     },
     "execution_count": 15,
     "metadata": {},
     "output_type": "execute_result"
    }
   ],
   "source": [
    "f\"{{'exact_match': {em_total}, 'f1': {f1_total}}}\""
   ]
  }
 ],
 "metadata": {
  "kernelspec": {
   "display_name": "Python 3 (ipykernel)",
   "language": "python",
   "name": "python3"
  },
  "language_info": {
   "codemirror_mode": {
    "name": "ipython",
    "version": 3
   },
   "file_extension": ".py",
   "mimetype": "text/x-python",
   "name": "python",
   "nbconvert_exporter": "python",
   "pygments_lexer": "ipython3",
   "version": "3.10.14"
  }
 },
 "nbformat": 4,
 "nbformat_minor": 2
}
