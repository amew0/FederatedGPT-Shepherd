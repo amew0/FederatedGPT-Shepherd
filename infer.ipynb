{
 "cells": [
  {
   "cell_type": "code",
   "execution_count": 1,
   "metadata": {},
   "outputs": [
    {
     "data": {
      "text/plain": [
       "True"
      ]
     },
     "execution_count": 1,
     "metadata": {},
     "output_type": "execute_result"
    }
   ],
   "source": [
    "import torch\n",
    "torch.cuda.is_available()"
   ]
  },
  {
   "cell_type": "code",
   "execution_count": 2,
   "metadata": {},
   "outputs": [],
   "source": [
    "import os\n",
    "from typing import List\n",
    "from tqdm import tqdm\n",
    "import fire\n",
    "from transformers import LlamaTokenizer, LlamaForCausalLM, AutoModelForCausalLM,  BitsAndBytesConfig\n",
    "from peft import (\n",
    "    LoraConfig,\n",
    "    get_peft_model,\n",
    "    get_peft_model_state_dict,\n",
    "    prepare_model_for_kbit_training,\n",
    ")\n",
    "from fed_utils import FedAvg, client_selection, global_evaluation, GeneralClient\n",
    "import datasets\n",
    "from utils.prompter import Prompter\n",
    "datasets.utils.logging.set_verbosity_error()"
   ]
  },
  {
   "cell_type": "code",
   "execution_count": 3,
   "metadata": {},
   "outputs": [],
   "source": [
    "ME=\"/dpc/kunf0007/amine\""
   ]
  },
  {
   "cell_type": "code",
   "execution_count": 5,
   "metadata": {},
   "outputs": [],
   "source": [
    "repo = \"mylora-shepherd-v120524\"\n",
    "mylora = f\"amew0/{repo}\"\n",
    "loraCacheT = f\"{ME}/{repo}/tokenizer\"\n",
    "loraCacheM = f\"{ME}/{repo}/model\"\n",
    "\n",
    "myTokenizer = LlamaTokenizer.from_pretrained(mylora,cache_dir=loraCacheT,padding_side=\"right\",pad_token_id=(0))"
   ]
  },
  {
   "cell_type": "code",
   "execution_count": 7,
   "metadata": {},
   "outputs": [],
   "source": [
    "RUN_ID=\"120524\"\n"
   ]
  },
  {
   "cell_type": "code",
   "execution_count": 8,
   "metadata": {},
   "outputs": [
    {
     "data": {
      "application/vnd.jupyter.widget-view+json": {
       "model_id": "9472aee225674221a98ab6cddd2255b5",
       "version_major": 2,
       "version_minor": 0
      },
      "text/plain": [
       "Loading checkpoint shards:   0%|          | 0/3 [00:00<?, ?it/s]"
      ]
     },
     "metadata": {},
     "output_type": "display_data"
    }
   ],
   "source": [
    "# Quantization configuration\n",
    "bnb_config = BitsAndBytesConfig(\n",
    "    load_in_4bit=True,\n",
    "    bnb_4bit_quant_type=\"nf4\",\n",
    "    bnb_4bit_compute_dtype=torch.float16,\n",
    "    bnb_4bit_use_double_quant=True,\n",
    ")\n",
    "model = AutoModelForCausalLM.from_pretrained(\n",
    "    f\"{ME}/model/mylora-shepherd-v{RUN_ID}\",\n",
    "    quantization_config=bnb_config,\n",
    "    torch_dtype=torch.float16,\n",
    "    device_map={\"\": 0},\n",
    "    cache_dir=loraCacheM\n",
    ")"
   ]
  },
  {
   "cell_type": "code",
   "execution_count": 12,
   "metadata": {},
   "outputs": [],
   "source": [
    "# Encode some text\n",
    "text = \"Which of the following two-dimensional shapes are made using only curved lines? And which use only straight lines? oval, rectangle, square, pentagon, circle and rhombus.\"\n",
    "# \"The oval and circle are made using only curved lines.\\nThe square, pentagon, rectangle and rhombus are made using only straight lines.\n",
    "input_ids = myTokenizer.encode(text, return_tensors=\"pt\")"
   ]
  },
  {
   "cell_type": "code",
   "execution_count": 13,
   "metadata": {},
   "outputs": [],
   "source": [
    "# Generate predictions\n",
    "output = model.generate(input_ids, max_length=200, num_return_sequences=1)"
   ]
  },
  {
   "cell_type": "code",
   "execution_count": 14,
   "metadata": {},
   "outputs": [
    {
     "name": "stdout",
     "output_type": "stream",
     "text": [
      "Which of the following two-dimensional shapes are made using only curved lines? And which use only straight lines? oval, rectangle, square, pentagon, circle and rhombus.\n",
      "The two-dimensional shapes that can be made with curved lines are oval, circle, and rhombus. The two-dimensional shapes that can be made with straight lines are rectangle and square.\n",
      "What is the difference between a polygon and a circle?\n",
      "A polygon is a closed figure with three or more sides, while a circle is an open figure with no sides.\n",
      "What is the difference between a polygon and a triangle?\n",
      "A polygon is a closed figure with three or more sides, while a triangle is an open figure with three sides.\n"
     ]
    }
   ],
   "source": [
    "# Decode the generated tokens to get the text\n",
    "predicted_text = myTokenizer.decode(output[0], skip_special_tokens=True)\n",
    "print(predicted_text)"
   ]
  },
  {
   "cell_type": "code",
   "execution_count": 13,
   "metadata": {},
   "outputs": [],
   "source": [
    "chavinlo = \"chavinlo/alpaca-native\"\n",
    "chavinlo_tokenizer = LlamaTokenizer.from_pretrained(\n",
    "    chavinlo,\n",
    "    cache_dir=f\"{ME}/chavinlo/tokenizer\",\n",
    "    padding_side=\"right\",\n",
    "    pad_token_id=(0))"
   ]
  },
  {
   "cell_type": "code",
   "execution_count": 15,
   "metadata": {},
   "outputs": [
    {
     "data": {
      "application/vnd.jupyter.widget-view+json": {
       "model_id": "6d0a70745d8947608bf3b927d6b64c25",
       "version_major": 2,
       "version_minor": 0
      },
      "text/plain": [
       "Downloading shards:   0%|          | 0/3 [00:00<?, ?it/s]"
      ]
     },
     "metadata": {},
     "output_type": "display_data"
    },
    {
     "data": {
      "application/vnd.jupyter.widget-view+json": {
       "model_id": "bf36e8f27d6b4f79953aa40463f8dba3",
       "version_major": 2,
       "version_minor": 0
      },
      "text/plain": [
       "pytorch_model-00002-of-00003.bin:   0%|          | 0.00/9.89G [00:00<?, ?B/s]"
      ]
     },
     "metadata": {},
     "output_type": "display_data"
    },
    {
     "data": {
      "application/vnd.jupyter.widget-view+json": {
       "model_id": "7318d34188fd436a96ecf6208af382b4",
       "version_major": 2,
       "version_minor": 0
      },
      "text/plain": [
       "pytorch_model-00003-of-00003.bin:   0%|          | 0.00/7.18G [00:00<?, ?B/s]"
      ]
     },
     "metadata": {},
     "output_type": "display_data"
    },
    {
     "data": {
      "application/vnd.jupyter.widget-view+json": {
       "model_id": "fc7d58ee6b654175954380685d78c4f8",
       "version_major": 2,
       "version_minor": 0
      },
      "text/plain": [
       "Loading checkpoint shards:   0%|          | 0/3 [00:00<?, ?it/s]"
      ]
     },
     "metadata": {},
     "output_type": "display_data"
    },
    {
     "data": {
      "application/vnd.jupyter.widget-view+json": {
       "model_id": "e50499bcdde64ca186d3f669f37bb809",
       "version_major": 2,
       "version_minor": 0
      },
      "text/plain": [
       "generation_config.json:   0%|          | 0.00/137 [00:00<?, ?B/s]"
      ]
     },
     "metadata": {},
     "output_type": "display_data"
    }
   ],
   "source": [
    "chavinlo_model = AutoModelForCausalLM.from_pretrained(\n",
    "    chavinlo,\n",
    "    quantization_config=bnb_config,\n",
    "    torch_dtype=torch.float16,\n",
    "    device_map={\"\": 0},\n",
    "    cache_dir=f\"{ME}/chavinlo/model\"\n",
    ")"
   ]
  },
  {
   "cell_type": "code",
   "execution_count": null,
   "metadata": {},
   "outputs": [
    {
     "ename": "",
     "evalue": "",
     "output_type": "error",
     "traceback": [
      "\u001b[1;31mFailed to connect to the remote Jupyter Server 'http://gpu-11-1:8888/'. Verify the server is running and reachable. (Failed to connect to the remote Jupyter Server 'http://gpu-11-1:8888/'. Verify the server is running and reachable. (request to http://gpu-11-1:8888/api/kernels?1715541936449 failed, reason: connect ECONNREFUSED 10.126.11.1:8888).)."
     ]
    }
   ],
   "source": [
    "input_ids = chavinlo_tokenizer.encode(text, return_tensors=\"pt\")\n",
    "output = chavinlo_model.generate(input_ids, max_length=50, num_return_sequences=1)\n",
    "predicted_text = chavinlo_tokenizer.decode(output[0], skip_special_tokens=True)\n",
    "print(predicted_text)"
   ]
  },
  {
   "cell_type": "code",
   "execution_count": null,
   "metadata": {},
   "outputs": [],
   "source": [
    "The answer is no, not all the positions. The most common positions in hockey are the five “F” positions: Forward, Defense, Goaltender, Center, and Wing. There are also other positions such as the Utility position, which is a hybrid of forward and defense, and the Goalie Coach position, which is a hybrid of goaltender and coach.\n",
    "The answer is no, not all the positions. The most common positions in hockey are the five “F” positions: Forward, Defense, Goaltender, Center, and Wing. There are also other positions such as the Utility position, which is a hybrid of forward and defense, and the Goalie Coach position, which is a hybrid of goaltender and coach.\n",
    "\n",
    "The answer is no, not all the positions. The most common positions in hockey are the five “F” positions: Forward, Defense, Goaltender, Center, and Wing. There are also other positions such as the Utility position, which is a hybrid of forward and defense, and the Goalie Coach position, which is a hybrid of goaltender and coach.\n"
   ]
  }
 ],
 "metadata": {
  "kernelspec": {
   "display_name": "Python 3 (ipykernel)",
   "language": "python",
   "name": "python3"
  }
 },
 "nbformat": 4,
 "nbformat_minor": 2
}
